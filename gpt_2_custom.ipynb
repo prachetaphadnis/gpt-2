{
  "nbformat": 4,
  "nbformat_minor": 0,
  "metadata": {
    "colab": {
      "name": "gpt-2-custom.ipynb",
      "provenance": [],
      "include_colab_link": true
    },
    "kernelspec": {
      "name": "python3",
      "display_name": "Python 3"
    }
  },
  "cells": [
    {
      "cell_type": "markdown",
      "metadata": {
        "id": "view-in-github",
        "colab_type": "text"
      },
      "source": [
        "<a href=\"https://colab.research.google.com/github/prachetaphadnis/gpt-2/blob/master/gpt_2_custom.ipynb\" target=\"_parent\"><img src=\"https://colab.research.google.com/assets/colab-badge.svg\" alt=\"Open In Colab\"/></a>"
      ]
    },
    {
      "cell_type": "code",
      "metadata": {
        "id": "a1kqcPVb6BVd",
        "colab_type": "code",
        "colab": {
          "base_uri": "https://localhost:8080/",
          "height": 921
        },
        "outputId": "b7c47aff-02fc-44c0-b4dd-37e7175322e7"
      },
      "source": [
        "!git clone https://github.com/prachetaphadnis/gpt-2/\n",
        "import os\n",
        "os.chdir('gpt-2')\n",
        "# !python download_model.py 117M\n",
        "# !python download_model.py 345M\n",
        "!python download_model.py 774M\n",
        "!python download_model.py 1558M\n",
        "!pip3 install -r requirements.txt"
      ],
      "execution_count": 2,
      "outputs": [
        {
          "output_type": "stream",
          "text": [
            "Cloning into 'gpt-2'...\n",
            "remote: Enumerating objects: 6, done.\u001b[K\n",
            "remote: Counting objects: 100% (6/6), done.\u001b[K\n",
            "remote: Compressing objects: 100% (6/6), done.\u001b[K\n",
            "remote: Total 316 (delta 2), reused 0 (delta 0), pack-reused 310\n",
            "Receiving objects: 100% (316/316), 4.64 MiB | 17.71 MiB/s, done.\n",
            "Resolving deltas: 100% (176/176), done.\n",
            "Fetching checkpoint: 1.00kit [00:00, 548kit/s]                                                      \n",
            "Fetching encoder.json: 1.04Mit [00:00, 49.7Mit/s]                                                   \n",
            "Fetching hparams.json: 1.00kit [00:00, 739kit/s]                                                    \n",
            "Fetching model.ckpt.data-00000-of-00001: 3.10Git [01:03, 48.9Mit/s]                                 \n",
            "Fetching model.ckpt.index: 16.0kit [00:00, 9.06Mit/s]                                               \n",
            "Fetching model.ckpt.meta: 1.38Mit [00:00, 47.9Mit/s]                                                \n",
            "Fetching vocab.bpe: 457kit [00:00, 41.7Mit/s]                                                       \n",
            "Fetching checkpoint: 1.00kit [00:00, 775kit/s]                                                      \n",
            "Fetching encoder.json: 1.04Mit [00:00, 41.8Mit/s]                                                   \n",
            "Fetching hparams.json: 1.00kit [00:00, 756kit/s]                                                    \n",
            "Fetching model.ckpt.data-00000-of-00001:  60%|█████████▌      | 3.72G/6.23G [02:06<01:25, 29.5Mit/s]\n",
            "Traceback (most recent call last):\n",
            "  File \"download_model.py\", line 27, in <module>\n",
            "    f.write(chunk)\n",
            "OSError: [Errno 28] No space left on device\n",
            "\n",
            "During handling of the above exception, another exception occurred:\n",
            "\n",
            "Traceback (most recent call last):\n",
            "  File \"download_model.py\", line 28, in <module>\n",
            "    pbar.update(chunk_size)\n",
            "OSError: [Errno 28] No space left on device\n",
            "\u001b[31mERROR: Exception:\n",
            "Traceback (most recent call last):\n",
            "  File \"/usr/local/lib/python3.6/dist-packages/pip/_internal/cli/base_command.py\", line 153, in _main\n",
            "    status = self.run(options, args)\n",
            "  File \"/usr/local/lib/python3.6/dist-packages/pip/_internal/commands/install.py\", line 338, in run\n",
            "    wheel_cache = WheelCache(options.cache_dir, options.format_control)\n",
            "  File \"/usr/local/lib/python3.6/dist-packages/pip/_internal/cache.py\", line 219, in __init__\n",
            "    self._ephem_cache = EphemWheelCache(format_control)\n",
            "  File \"/usr/local/lib/python3.6/dist-packages/pip/_internal/cache.py\", line 195, in __init__\n",
            "    self._temp_dir = TempDirectory(kind=\"ephem-wheel-cache\")\n",
            "  File \"/usr/local/lib/python3.6/dist-packages/pip/_internal/utils/temp_dir.py\", line 57, in __init__\n",
            "    path = self._create(kind)\n",
            "  File \"/usr/local/lib/python3.6/dist-packages/pip/_internal/utils/temp_dir.py\", line 90, in _create\n",
            "    tempfile.mkdtemp(prefix=\"pip-{}-\".format(kind))\n",
            "  File \"/usr/lib/python3.6/tempfile.py\", line 499, in mkdtemp\n",
            "    prefix, suffix, dir, output_type = _sanitize_params(prefix, suffix, dir)\n",
            "  File \"/usr/lib/python3.6/tempfile.py\", line 269, in _sanitize_params\n",
            "    dir = gettempdir()\n",
            "  File \"/usr/lib/python3.6/tempfile.py\", line 437, in gettempdir\n",
            "    tempdir = _get_default_tempdir()\n",
            "  File \"/usr/lib/python3.6/tempfile.py\", line 372, in _get_default_tempdir\n",
            "    dirlist)\n",
            "FileNotFoundError: [Errno 2] No usable temporary directory found in ['/tmp', '/var/tmp', '/usr/tmp', '/content/gpt-2/gpt-2']\u001b[0m\n"
          ],
          "name": "stdout"
        }
      ]
    },
    {
      "cell_type": "code",
      "metadata": {
        "id": "56ShVBrphflF",
        "colab_type": "code",
        "colab": {
          "base_uri": "https://localhost:8080/",
          "height": 564
        },
        "outputId": "8f205bdc-7195-441c-b47d-1fb7dcd0df7a"
      },
      "source": [
        "!python3 src/generate_unconditional_samples.py --model_name='1558M' --nsamples=2 --top_k=2"
      ],
      "execution_count": 7,
      "outputs": [
        {
          "output_type": "stream",
          "text": [
            "Traceback (most recent call last):\n",
            "  File \"src/generate_unconditional_samples.py\", line 7, in <module>\n",
            "    import tensorflow as tf\n",
            "  File \"/usr/local/lib/python3.6/dist-packages/tensorflow/__init__.py\", line 99, in <module>\n",
            "    from tensorflow_core import *\n",
            "  File \"/usr/local/lib/python3.6/dist-packages/tensorflow_core/__init__.py\", line 28, in <module>\n",
            "    from tensorflow.python import pywrap_tensorflow  # pylint: disable=unused-import\n",
            "  File \"<frozen importlib._bootstrap>\", line 1007, in _handle_fromlist\n",
            "  File \"/usr/local/lib/python3.6/dist-packages/tensorflow/__init__.py\", line 50, in __getattr__\n",
            "    module = self._load()\n",
            "  File \"/usr/local/lib/python3.6/dist-packages/tensorflow/__init__.py\", line 44, in _load\n",
            "    module = _importlib.import_module(self.__name__)\n",
            "  File \"/usr/lib/python3.6/importlib/__init__.py\", line 126, in import_module\n",
            "    return _bootstrap._gcd_import(name[level:], package, level)\n",
            "  File \"/usr/local/lib/python3.6/dist-packages/tensorflow_core/python/__init__.py\", line 132, in <module>\n",
            "    from tensorflow.python.platform import test\n",
            "  File \"/usr/local/lib/python3.6/dist-packages/tensorflow_core/python/platform/test.py\", line 30, in <module>\n",
            "    from tensorflow.python.framework import test_util as _test_util\n",
            "  File \"/usr/local/lib/python3.6/dist-packages/tensorflow_core/python/framework/test_util.py\", line 35, in <module>\n",
            "    from absl.testing import parameterized\n",
            "  File \"/usr/local/lib/python3.6/dist-packages/absl/testing/parameterized.py\", line 171, in <module>\n",
            "    from absl.testing import absltest\n",
            "  File \"/usr/local/lib/python3.6/dist-packages/absl/testing/absltest.py\", line 239, in <module>\n",
            "    flags.DEFINE_string('test_tmpdir', get_default_test_tmpdir(),\n",
            "  File \"/usr/local/lib/python3.6/dist-packages/absl/testing/absltest.py\", line 177, in get_default_test_tmpdir\n",
            "    tmpdir = os.path.join(tempfile.gettempdir(), 'absl_testing')\n",
            "  File \"/usr/lib/python3.6/tempfile.py\", line 437, in gettempdir\n",
            "    tempdir = _get_default_tempdir()\n",
            "  File \"/usr/lib/python3.6/tempfile.py\", line 372, in _get_default_tempdir\n",
            "    dirlist)\n",
            "FileNotFoundError: [Errno 2] No usable temporary directory found in ['/tmp', '/var/tmp', '/usr/tmp', '/content/gpt-2/gpt-2']\n"
          ],
          "name": "stdout"
        }
      ]
    },
    {
      "cell_type": "code",
      "metadata": {
        "id": "RBAfxULTim0-",
        "colab_type": "code",
        "colab": {}
      },
      "source": [
        ""
      ],
      "execution_count": 0,
      "outputs": []
    }
  ]
}